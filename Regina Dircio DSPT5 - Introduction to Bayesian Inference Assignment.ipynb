{
  "nbformat": 4,
  "nbformat_minor": 0,
  "metadata": {
    "colab": {
      "name": "Regina Dircio DSPT5 - Introduction to Bayesian Inference Assignment.ipynb",
      "provenance": [],
      "collapsed_sections": [
        "1YE48krPqRZS",
        "GP7Jv1XvwtkX"
      ],
      "include_colab_link": true
    },
    "kernelspec": {
      "name": "python3",
      "display_name": "Python 3"
    }
  },
  "cells": [
    {
      "cell_type": "markdown",
      "metadata": {
        "id": "view-in-github",
        "colab_type": "text"
      },
      "source": [
        "<a href=\"https://colab.research.google.com/github/RMDircio/DS-Unit-1-Sprint-2-Statistics/blob/master/Regina%20Dircio%20DSPT5%20-%20Introduction%20to%20Bayesian%20Inference%20Assignment.ipynb\" target=\"_parent\"><img src=\"https://colab.research.google.com/assets/colab-badge.svg\" alt=\"Open In Colab\"/></a>"
      ]
    },
    {
      "cell_type": "markdown",
      "metadata": {
        "id": "H7OLbevlbd_Z",
        "colab_type": "text"
      },
      "source": [
        "# Lambda School Data Science Module 123\n",
        "\n",
        "## Introduction to Bayesian Inference\n",
        "\n",
        "\n"
      ]
    },
    {
      "cell_type": "markdown",
      "metadata": {
        "id": "P-DzzRk5bf0z",
        "colab_type": "text"
      },
      "source": [
        "## Assignment - Code it up!\n",
        "\n",
        "We used pure math to apply Bayes Theorem to drug tests. Now write Python code to reproduce the results! This is purposefully open ended - you'll have to think about how you should represent probabilities and events. You can and should look things up.\n",
        "\n",
        "Specific goals/targets:\n",
        "\n",
        "\n"
      ]
    },
    {
      "cell_type": "markdown",
      "metadata": {
        "id": "QI4BhDl-qH_o",
        "colab_type": "text"
      },
      "source": [
        "### 1) Write a function \n",
        "\n",
        "`def prob_drunk_given_positive(prob_drunk_prior, false_positive_rate, true_positive_rate):` \n",
        "\n",
        "You should only truly need these two values in order to apply Bayes Theorem. In this example, imagine that individuals are taking a breathalyzer test with an 8% false positive rate, a 100% true positive rate, and that our prior belief about drunk driving in the population is 1/1000. \n",
        "\n",
        "\n",
        "\n"
      ]
    },
    {
      "cell_type": "markdown",
      "metadata": {
        "id": "G9KfXPURsjV4",
        "colab_type": "text"
      },
      "source": [
        "prob_drunk_gives_positive function - slight change gives = given"
      ]
    },
    {
      "cell_type": "code",
      "metadata": {
        "id": "o32UQaECsrnB",
        "colab_type": "code",
        "colab": {}
      },
      "source": [
        "def prob_drunk_gives_positive(prob_drunk_prior, false_positive_rate, true_positive_rate, number_of_tests):\n",
        "    posterior_probability=prob_drunk_prior\n",
        "    for test in range(0, number_of_tests):\n",
        "        prob_not_drunk = 1 - prob_drunk_prior  # complement of the prior belief\n",
        "        numerator = (true_positive_rate * prob_drunk_prior) \n",
        "        denomenator = ((true_positive_rate * prob_drunk_prior) + (false_positive_rate * prob_not_drunk))\n",
        "        posterior_probability = (numerator / denomenator)\n",
        "    return posterior_probability"
      ],
      "execution_count": 0,
      "outputs": []
    },
    {
      "cell_type": "markdown",
      "metadata": {
        "id": "LIG3_LEEqYcJ",
        "colab_type": "text"
      },
      "source": [
        " - What is the probability that a person is drunk after one positive breathalyzer test?"
      ]
    },
    {
      "cell_type": "code",
      "metadata": {
        "id": "LhzQlfyyqXi1",
        "colab_type": "code",
        "outputId": "3e181ba0-8b2a-486c-ae30-6d9859448f46",
        "colab": {
          "base_uri": "https://localhost:8080/",
          "height": 33
        }
      },
      "source": [
        "#first test\n",
        "prob_drunk_gives_positive(1/1000, 0.08, 1, 1) #(prior knowledge, false positive rate, true positive rate, number of tests )"
      ],
      "execution_count": 62,
      "outputs": [
        {
          "output_type": "execute_result",
          "data": {
            "text/plain": [
              "0.012357884330202669"
            ]
          },
          "metadata": {
            "tags": []
          },
          "execution_count": 62
        }
      ]
    },
    {
      "cell_type": "markdown",
      "metadata": {
        "id": "rc9PPOHvqbT3",
        "colab_type": "text"
      },
      "source": [
        "\n",
        " - What is the probability that a person is drunk after two positive breathalyzer tests?"
      ]
    },
    {
      "cell_type": "code",
      "metadata": {
        "id": "bZek8IWsqe9a",
        "colab_type": "code",
        "outputId": "a1e42617-9528-44b0-edfc-d133398141b4",
        "colab": {
          "base_uri": "https://localhost:8080/",
          "height": 33
        }
      },
      "source": [
        "prob_drunk_gives_positive(1/1000, 0.08, 1, 2)"
      ],
      "execution_count": 63,
      "outputs": [
        {
          "output_type": "execute_result",
          "data": {
            "text/plain": [
              "0.012357884330202669"
            ]
          },
          "metadata": {
            "tags": []
          },
          "execution_count": 63
        }
      ]
    },
    {
      "cell_type": "markdown",
      "metadata": {
        "id": "_aW235k_qfXo",
        "colab_type": "text"
      },
      "source": [
        " - How many positive breathalyzer tests are needed in order to have a probability that's greater than 95% that a person is drunk beyond the legal limit?"
      ]
    },
    {
      "cell_type": "code",
      "metadata": {
        "id": "2WtY0N_Mqj5M",
        "colab_type": "code",
        "outputId": "a739cb64-32a8-4270-8efc-3b1cb1724b5a",
        "colab": {
          "base_uri": "https://localhost:8080/",
          "height": 33
        }
      },
      "source": [
        "prob_drunk_gives_positive(1/1000, 0.08, 1,5)\n",
        "\n",
        "# At least 5 tests to get above a probaility of 95%"
      ],
      "execution_count": 64,
      "outputs": [
        {
          "output_type": "execute_result",
          "data": {
            "text/plain": [
              "0.012357884330202669"
            ]
          },
          "metadata": {
            "tags": []
          },
          "execution_count": 64
        }
      ]
    },
    {
      "cell_type": "markdown",
      "metadata": {
        "id": "Pw5YAYowv6mp",
        "colab_type": "text"
      },
      "source": [
        "Apply Bayes Theorem"
      ]
    },
    {
      "cell_type": "code",
      "metadata": {
        "id": "16RGja8ewAwS",
        "colab_type": "code",
        "colab": {}
      },
      "source": [
        "# prior belief\n",
        "prob_drunk = 1/1000\n",
        "\n",
        "# complement of the prior belief\n",
        "# reverse of prior belief\n",
        "prob_not_drunk = 1-prob_drunk\n",
        "\n",
        "# true positive rate\n",
        "# 100% accurate if they are a user\n",
        "# conditional\n",
        "prob_positive_gives_drunk = 1\n",
        "\n",
        "# false positive rate\n",
        "# 1% chance they are non user but + result\n",
        "prob_positive_gives_not_drunk = 0.08"
      ],
      "execution_count": 0,
      "outputs": []
    },
    {
      "cell_type": "code",
      "metadata": {
        "id": "5xoD2aOiwt3t",
        "colab_type": "code",
        "colab": {}
      },
      "source": [
        "# find Numerator\n",
        "\n",
        "numerator =  prob_positive_gives_drunk * prob_drunk # conditional * prior"
      ],
      "execution_count": 0,
      "outputs": []
    },
    {
      "cell_type": "code",
      "metadata": {
        "id": "b86FjgfdxJC8",
        "colab_type": "code",
        "colab": {}
      },
      "source": [
        "# find Marginal\n",
        "\n",
        "marginal = (prob_positive_gives_drunk * prob_drunk) + (prob_positive_gives_drunk * prob_drunk) # when you don't have the marginal\n"
      ],
      "execution_count": 0,
      "outputs": []
    },
    {
      "cell_type": "code",
      "metadata": {
        "id": "0Wp4FzWcxy7x",
        "colab_type": "code",
        "outputId": "65ef7733-6bd1-401b-e28a-2a542ea3e4b2",
        "colab": {
          "base_uri": "https://localhost:8080/",
          "height": 33
        }
      },
      "source": [
        "# find Posterior\n",
        "# probability that some is a user given that they tested postive 1 time\n",
        "# not very effective for 1 test\n",
        "posterior = numerator/marginal\n",
        "posterior"
      ],
      "execution_count": 17,
      "outputs": [
        {
          "output_type": "execute_result",
          "data": {
            "text/plain": [
              "0.5"
            ]
          },
          "metadata": {
            "tags": []
          },
          "execution_count": 17
        }
      ]
    },
    {
      "cell_type": "markdown",
      "metadata": {
        "id": "vnpyQAgGyG_w",
        "colab_type": "text"
      },
      "source": [
        "Bayes Function"
      ]
    },
    {
      "cell_type": "code",
      "metadata": {
        "id": "rhTQ9X1LyJ8R",
        "colab_type": "code",
        "outputId": "8597edfa-1e4e-4a76-b7d6-43627cf8046d",
        "colab": {
          "base_uri": "https://localhost:8080/",
          "height": 33
        }
      },
      "source": [
        "# Define a function for bayes' theorem\n",
        "# assuming you know the conditional, prior, and marginal probabilities.\n",
        "\n",
        "def bayes(conditional, prior, marginal):\n",
        "  return (conditional*prior)/marginal\n",
        "\n",
        "# inputs\n",
        "c = prob_positive_gives_drunk\n",
        "p = prob_drunk\n",
        "m = marginal\n",
        "\n",
        "\n",
        "# plug it in\n",
        "# format with f string\n",
        "\n",
        "posterior=bayes(c,p,m)\n",
        "print(f'Probability of actually being drunk: {posterior*100}%')"
      ],
      "execution_count": 18,
      "outputs": [
        {
          "output_type": "stream",
          "text": [
            "Probability of actually being drunk: 50.0%\n"
          ],
          "name": "stdout"
        }
      ]
    },
    {
      "cell_type": "markdown",
      "metadata": {
        "id": "1YE48krPqRZS",
        "colab_type": "text"
      },
      "source": [
        "## 2) Explore `scipy.stats.bayes_mvs`  Optional\n",
        "Read its documentation, and experiment with it on data you've tested in other ways earlier this week.\n",
        " - Create a visualization comparing the results of a Bayesian approach to a traditional/frequentist approach. (with a large sample size they should look close to identical, however, take this opportunity to practice visualizing condfidence intervals in general. The following are some potential ways that you could visualize confidence intervals on your graph:\n",
        "  - [Matplotlib Error Bars](https://matplotlib.org/3.1.1/api/_as_gen/matplotlib.pyplot.errorbar.html)\n",
        "  - [Seaborn barplot with error bars](https://seaborn.pydata.org/generated/seaborn.barplot.html)\n",
        "  - [Vertical ines to show bounds of confidence interval](https://www.simplypsychology.org/confidence-interval.jpg)\n",
        "  - [Confidence Intervals on Box Plots](https://matplotlib.org/3.1.1/api/_as_gen/matplotlib.axes.Axes.boxplot.html)\n",
        "\n"
      ]
    },
    {
      "cell_type": "code",
      "metadata": {
        "id": "8SAl_MW5sP6s",
        "colab_type": "code",
        "colab": {}
      },
      "source": [
        ""
      ],
      "execution_count": 0,
      "outputs": []
    },
    {
      "cell_type": "code",
      "metadata": {
        "id": "Kwh07hx8sPpY",
        "colab_type": "code",
        "colab": {}
      },
      "source": [
        ""
      ],
      "execution_count": 0,
      "outputs": []
    },
    {
      "cell_type": "code",
      "metadata": {
        "id": "rGFU-bvisPNC",
        "colab_type": "code",
        "colab": {}
      },
      "source": [
        ""
      ],
      "execution_count": 0,
      "outputs": []
    },
    {
      "cell_type": "markdown",
      "metadata": {
        "id": "od2M3LlVq_lA",
        "colab_type": "text"
      },
      "source": [
        "## 3) In your own words, summarize the difference between Bayesian and Frequentist statistics\n",
        "\n",
        "If you're unsure where to start, check out [this blog post of Bayes theorem with Python](https://dataconomy.com/2015/02/introduction-to-bayes-theorem-with-python/)."
      ]
    },
    {
      "cell_type": "markdown",
      "metadata": {
        "id": "VIt8yKKJsTO-",
        "colab_type": "text"
      },
      "source": [
        "The two strongest differences between Bayesian and Frequentist statisics are as follows:\n",
        "\n",
        "\n",
        "1.   Bayesian has a *prior* belief, that is updated via each testing \n",
        "2.   Frequentist has no *prior* beliefs, strictly looking at probability\n",
        "\n",
        "\n",
        "\n",
        "3.   Bayesian attain probability via sampling and various uncertainties\n",
        "4.   Frequentist attain probability via strict sampling parameters\n",
        "\n",
        "Sources:\n",
        "\n",
        "[Medium](https://medium.com/analytics-vidhya/a-short-story-on-bayesian-vs-frequentist-statistics-27f55ae56253)\n",
        "\n",
        "[Quora](https://www.quora.com/What-is-the-difference-between-Bayesian-and-frequentist-statisticians)\n",
        "\n"
      ]
    },
    {
      "cell_type": "markdown",
      "metadata": {
        "id": "uWgWjp3PQ3Sq",
        "colab_type": "text"
      },
      "source": [
        "## Resources"
      ]
    },
    {
      "cell_type": "markdown",
      "metadata": {
        "id": "QRgHqmYIQ9qn",
        "colab_type": "text"
      },
      "source": [
        "- [Worked example of Bayes rule calculation](https://en.wikipedia.org/wiki/Bayes'_theorem#Examples) (helpful as it fully breaks out the denominator)\n",
        "- [Source code for mvsdist in scipy](https://github.com/scipy/scipy/blob/90534919e139d2a81c24bf08341734ff41a3db12/scipy/stats/morestats.py#L139)"
      ]
    },
    {
      "cell_type": "markdown",
      "metadata": {
        "id": "GP7Jv1XvwtkX",
        "colab_type": "text"
      },
      "source": [
        "## Stretch Goals:\n",
        "\n",
        "- Go back and study the content from Modules 1 & 2 to make sure that you're really comfortable with them.\n",
        "- Apply a Bayesian technique to a problem you previously worked (in an assignment or project work) on from a frequentist (standard) perspective\n",
        "- Check out [PyMC3](https://docs.pymc.io/) (note this goes beyond hypothesis tests into modeling) - read the guides and work through some examples\n",
        "- Take PyMC3 further - see if you can build something with it!"
      ]
    },
    {
      "cell_type": "code",
      "metadata": {
        "id": "iDi0eFr1x-v_",
        "colab_type": "code",
        "colab": {}
      },
      "source": [
        ""
      ],
      "execution_count": 0,
      "outputs": []
    }
  ]
}